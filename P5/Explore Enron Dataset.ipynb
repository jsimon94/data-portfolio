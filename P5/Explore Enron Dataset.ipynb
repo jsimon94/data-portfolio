{
 "cells": [
  {
   "cell_type": "code",
   "execution_count": 1,
   "metadata": {
    "collapsed": true
   },
   "outputs": [],
   "source": [
    "import sys\n",
    "import pickle\n",
    "import matplotlib.pyplot\n",
    "sys.path.append(\"../tools/\")\n",
    "\n",
    "from feature_format import featureFormat, targetFeatureSplit\n",
    "from tester import dump_classifier_and_data\n",
    "from tester import test_classifier\n",
    "\n",
    "from sklearn.naive_bayes import GaussianNB\n",
    "from sklearn.tree import DecisionTreeClassifier\n",
    "from sklearn.neighbors import KNeighborsClassifier\n",
    "from sklearn.grid_search import GridSearchCV\n",
    "from sklearn.metrics import recall_score, precision_score, f1_score, accuracy_score\n",
    "from sklearn.preprocessing import StandardScaler, MinMaxScaler\n",
    "from sklearn.pipeline import Pipeline\n",
    "from sklearn.feature_selection import SelectKBest, f_classif\n",
    "from sklearn.decomposition import PCA\n",
    "\n",
    "import matplotlib.pyplot as plt\n",
    "from time import time"
   ]
  },
  {
   "cell_type": "code",
   "execution_count": 2,
   "metadata": {
    "collapsed": true
   },
   "outputs": [],
   "source": [
    "with open(\"final_project_dataset.pkl\", \"r\") as data_file:\n",
    "    data_dict = pickle.load(data_file)"
   ]
  },
  {
   "cell_type": "code",
   "execution_count": 3,
   "metadata": {
    "collapsed": false
   },
   "outputs": [
    {
     "name": "stdout",
     "output_type": "stream",
     "text": [
      "METTS MARK\n",
      "BAXTER JOHN C\n",
      "ELLIOTT STEVEN\n",
      "CORDES WILLIAM R\n",
      "HANNON KEVIN P\n",
      "MORDAUNT KRISTINA M\n",
      "MEYER ROCKFORD G\n",
      "MCMAHON JEFFREY\n",
      "HORTON STANLEY C\n",
      "PIPER GREGORY F\n",
      "HUMPHREY GENE E\n",
      "UMANOFF ADAM S\n",
      "BLACHMAN JEREMY M\n",
      "SUNDE MARTIN\n",
      "GIBBS DANA R\n",
      "LOWRY CHARLES P\n",
      "COLWELL WESLEY\n",
      "MULLER MARK S\n",
      "JACKSON CHARLENE R\n",
      "WESTFAHL RICHARD K\n",
      "WALTERS GARETH W\n",
      "WALLS JR ROBERT H\n",
      "KITCHEN LOUISE\n",
      "CHAN RONNIE\n",
      "BELFER ROBERT\n",
      "SHANKMAN JEFFREY A\n",
      "WODRASKA JOHN\n",
      "BERGSIEKER RICHARD P\n",
      "URQUHART JOHN A\n",
      "BIBI PHILIPPE A\n",
      "RIEKER PAULA H\n",
      "WHALEY DAVID A\n",
      "BECK SALLY W\n",
      "HAUG DAVID L\n",
      "ECHOLS JOHN B\n",
      "MENDELSOHN JOHN\n",
      "HICKERSON GARY J\n",
      "CLINE KENNETH W\n",
      "LEWIS RICHARD\n",
      "HAYES ROBERT E\n",
      "MCCARTY DANNY J\n",
      "KOPPER MICHAEL J\n",
      "LEFF DANIEL P\n",
      "LAVORATO JOHN J\n",
      "BERBERIAN DAVID\n",
      "DETMERING TIMOTHY J\n",
      "WAKEHAM JOHN\n",
      "POWERS WILLIAM\n",
      "GOLD JOSEPH\n",
      "BANNANTINE JAMES M\n",
      "DUNCAN JOHN H\n",
      "SHAPIRO RICHARD S\n",
      "SHERRIFF JOHN R\n",
      "SHELBY REX\n",
      "LEMAISTRE CHARLES\n",
      "DEFFNER JOSEPH M\n",
      "KISHKILL JOSEPH G\n",
      "WHALLEY LAWRENCE G\n",
      "MCCONNELL MICHAEL S\n",
      "PIRO JIM\n",
      "DELAINEY DAVID W\n",
      "SULLIVAN-SHAKLOVITZ COLLEEN\n",
      "WROBEL BRUCE\n",
      "LINDHOLM TOD A\n",
      "MEYER JEROME J\n",
      "LAY KENNETH L\n",
      "BUTTS ROBERT H\n",
      "OLSON CINDY K\n",
      "MCDONALD REBECCA\n",
      "CUMBERLAND MICHAEL S\n",
      "GAHN ROBERT S\n",
      "MCCLELLAN GEORGE\n",
      "HERMANN ROBERT J\n",
      "SCRIMSHAW MATTHEW\n",
      "GATHMANN WILLIAM D\n",
      "HAEDICKE MARK E\n",
      "BOWEN JR RAYMOND M\n",
      "GILLIS JOHN\n",
      "FITZGERALD JAY L\n",
      "MORAN MICHAEL P\n",
      "REDMOND BRIAN L\n",
      "BAZELIDES PHILIP J\n",
      "BELDEN TIMOTHY N\n",
      "DURAN WILLIAM D\n",
      "THORN TERENCE H\n",
      "FASTOW ANDREW S\n",
      "FOY JOE\n",
      "CALGER CHRISTOPHER F\n",
      "RICE KENNETH D\n",
      "KAMINSKI WINCENTY J\n",
      "LOCKHART EUGENE E\n",
      "COX DAVID\n",
      "OVERDYKE JR JERE C\n",
      "PEREIRA PAULO V. FERRAZ\n",
      "STABLER FRANK\n",
      "SKILLING JEFFREY K\n",
      "BLAKE JR. NORMAN P\n",
      "SHERRICK JEFFREY B\n",
      "PRENTICE JAMES\n",
      "GRAY RODNEY\n",
      "PICKERING MARK R\n",
      "THE TRAVEL AGENCY IN THE PARK\n",
      "NOLES JAMES L\n",
      "KEAN STEVEN J\n",
      "TOTAL\n",
      "FOWLER PEGGY\n",
      "WASAFF GEORGE\n",
      "WHITE JR THOMAS E\n",
      "CHRISTODOULOU DIOMEDES\n",
      "ALLEN PHILLIP K\n",
      "SHARP VICTORIA T\n",
      "JAEDICKE ROBERT\n",
      "WINOKUR JR. HERBERT S\n",
      "BROWN MICHAEL\n",
      "BADUM JAMES P\n",
      "HUGHES JAMES A\n",
      "REYNOLDS LAWRENCE\n",
      "DIMICHELE RICHARD G\n",
      "BHATNAGAR SANJAY\n",
      "CARTER REBECCA C\n",
      "BUCHANAN HAROLD G\n",
      "YEAP SOON\n",
      "MURRAY JULIA H\n",
      "GARLAND C KEVIN\n",
      "DODSON KEITH\n",
      "YEAGER F SCOTT\n",
      "HIRKO JOSEPH\n",
      "DIETRICH JANET R\n",
      "DERRICK JR. JAMES V\n",
      "FREVERT MARK A\n",
      "PAI LOU L\n",
      "BAY FRANKLIN R\n",
      "HAYSLETT RODERICK J\n",
      "FUGH JOHN L\n",
      "FALLON JAMES B\n",
      "KOENIG MARK E\n",
      "SAVAGE FRANK\n",
      "IZZO LAWRENCE L\n",
      "TILNEY ELIZABETH A\n",
      "MARTIN AMANDA K\n",
      "BUY RICHARD B\n",
      "GRAMM WENDY L\n",
      "CAUSEY RICHARD A\n",
      "TAYLOR MITCHELL S\n",
      "DONAHUE JR JEFFREY M\n",
      "GLISAN JR BEN F\n"
     ]
    }
   ],
   "source": [
    "for name in data_dict:\n",
    "    print name"
   ]
  },
  {
   "cell_type": "code",
   "execution_count": 4,
   "metadata": {
    "collapsed": false,
    "scrolled": true
   },
   "outputs": [
    {
     "data": {
      "text/plain": [
       "146"
      ]
     },
     "execution_count": 4,
     "metadata": {},
     "output_type": "execute_result"
    }
   ],
   "source": [
    "len(data_dict)"
   ]
  },
  {
   "cell_type": "code",
   "execution_count": 5,
   "metadata": {
    "collapsed": false
   },
   "outputs": [
    {
     "data": {
      "text/plain": [
       "{'bonus': 350000,\n",
       " 'deferral_payments': 'NaN',\n",
       " 'deferred_income': 'NaN',\n",
       " 'director_fees': 'NaN',\n",
       " 'email_address': 'jay.fitzgerald@enron.com',\n",
       " 'exercised_stock_options': 664461,\n",
       " 'expenses': 23870,\n",
       " 'from_messages': 16,\n",
       " 'from_poi_to_this_person': 1,\n",
       " 'from_this_person_to_poi': 8,\n",
       " 'loan_advances': 'NaN',\n",
       " 'long_term_incentive': 556416,\n",
       " 'other': 285414,\n",
       " 'poi': False,\n",
       " 'restricted_stock': 956775,\n",
       " 'restricted_stock_deferred': 'NaN',\n",
       " 'salary': 199157,\n",
       " 'shared_receipt_with_poi': 723,\n",
       " 'to_messages': 936,\n",
       " 'total_payments': 1414857,\n",
       " 'total_stock_value': 1621236}"
      ]
     },
     "execution_count": 5,
     "metadata": {},
     "output_type": "execute_result"
    }
   ],
   "source": [
    "data_dict['FITZGERALD JAY L']"
   ]
  },
  {
   "cell_type": "code",
   "execution_count": 6,
   "metadata": {
    "collapsed": false,
    "scrolled": true
   },
   "outputs": [
    {
     "data": {
      "text/plain": [
       "{'bonus': 'NaN',\n",
       " 'deferral_payments': 'NaN',\n",
       " 'deferred_income': 'NaN',\n",
       " 'director_fees': 'NaN',\n",
       " 'email_address': 'NaN',\n",
       " 'exercised_stock_options': 'NaN',\n",
       " 'expenses': 'NaN',\n",
       " 'from_messages': 'NaN',\n",
       " 'from_poi_to_this_person': 'NaN',\n",
       " 'from_this_person_to_poi': 'NaN',\n",
       " 'loan_advances': 'NaN',\n",
       " 'long_term_incentive': 'NaN',\n",
       " 'other': 'NaN',\n",
       " 'poi': False,\n",
       " 'restricted_stock': 'NaN',\n",
       " 'restricted_stock_deferred': 'NaN',\n",
       " 'salary': 'NaN',\n",
       " 'shared_receipt_with_poi': 'NaN',\n",
       " 'to_messages': 'NaN',\n",
       " 'total_payments': 'NaN',\n",
       " 'total_stock_value': 'NaN'}"
      ]
     },
     "execution_count": 6,
     "metadata": {},
     "output_type": "execute_result"
    }
   ],
   "source": [
    "# Remove Outliers\n",
    "data_dict.pop(\"TOTAL\")\n",
    "data_dict.pop(\"THE TRAVEL AGENCY IN THE PARK\")\n",
    "data_dict.pop(\"LOCKHART EUGENE E\")"
   ]
  },
  {
   "cell_type": "code",
   "execution_count": 7,
   "metadata": {
    "collapsed": false
   },
   "outputs": [
    {
     "data": {
      "text/plain": [
       "143"
      ]
     },
     "execution_count": 7,
     "metadata": {},
     "output_type": "execute_result"
    }
   ],
   "source": [
    "len(data_dict)"
   ]
  },
  {
   "cell_type": "code",
   "execution_count": 8,
   "metadata": {
    "collapsed": false
   },
   "outputs": [
    {
     "data": {
      "text/plain": [
       "18"
      ]
     },
     "execution_count": 8,
     "metadata": {},
     "output_type": "execute_result"
    }
   ],
   "source": [
    "def get_quantifiable_count(key, is_poi = None):\n",
    "    count = 0\n",
    "    for k, v in data_dict.items():\n",
    "        if is_poi is not None:\n",
    "            if v[key] != 'NaN' and v['poi'] == is_poi:\n",
    "                count += 1\n",
    "        else:\n",
    "            if v[key] != 'NaN':\n",
    "                count += 1\n",
    "    return count\n",
    "\n",
    "poi_count = get_quantifiable_count('poi', True)\n",
    "non_poi_count = get_quantifiable_count('poi', False)\n",
    "\n",
    "poi_count"
   ]
  },
  {
   "cell_type": "code",
   "execution_count": 9,
   "metadata": {
    "collapsed": false
   },
   "outputs": [],
   "source": [
    "# Create New Features\n",
    "for name in data_dict:\n",
    "    data_point = data_dict[name]\n",
    "    \n",
    "    if data_point['bonus']!= 'NaN' and data_point['salary'] != 'NaN' and data_point['salary'] != 0:\n",
    "        #bonus to salary ratio\n",
    "        bonus = float(data_point['bonus'])\n",
    "        salary = float(data_point['salary'])\n",
    "        data_point[\"bonus to salary ratio\"] = bonus/salary\n",
    "    else:\n",
    "        data_point[\"bonus to salary ratio\"] ='NaN'\n",
    "        \n",
    "        \n",
    "    \n",
    "    if data_point['to_messages'] != 'NaN' and  data_point['from_messages'] != 'NaN' and data_point['from_poi_to_this_person'] != 'NaN' and data_point['from_this_person_to_poi'] != 'NaN':\n",
    "        to_messages = float(data_point['to_messages'])\n",
    "        from_messages = float(data_point['from_messages'])\n",
    "        from_poi = float(data_point['from_poi_to_this_person'])\n",
    "        to_poi = float(data_point['from_this_person_to_poi'])\n",
    "\n",
    "        data_point['from_poi_to_this_person_ratio'] = from_poi / to_messages\n",
    "        data_point['from_this_person_to_poi_ratio'] = to_poi / from_messages\n",
    "        #data_point['Total POI Interaction Ratio'] = (from_poi + to_poi)/total_messages\n",
    "    \n",
    "    else:\n",
    "        data_point['from_poi_to_this_person_ratio'] = \"NaN\"\n",
    "        data_point['from_this_person_to_poi_ratio'] = \"NaN\"\n",
    "        #data_point['Total POI Interaction Ratio'] = \"NaN\""
   ]
  },
  {
   "cell_type": "code",
   "execution_count": 10,
   "metadata": {
    "collapsed": false
   },
   "outputs": [
    {
     "data": {
      "image/png": "[encoded data removed]",
      "text/plain": [
       "<matplotlib.figure.Figure at 0x10d1015d0>"
      ]
     },
     "metadata": {},
     "output_type": "display_data"
    }
   ],
   "source": [
    "features = ['from_poi_to_this_person_ratio','from_this_person_to_poi_ratio']\n",
    "data = featureFormat(data_dict, features)\n",
    "\n",
    "for point in data:\n",
    "    from_poi = point[0]\n",
    "    to_poi = point[1]\n",
    "    matplotlib.pyplot.scatter(from_poi, to_poi )\n",
    "\n",
    "matplotlib.pyplot.xlabel(\"from_poi\")\n",
    "matplotlib.pyplot.ylabel(\"to_poi\")\n",
    "matplotlib.pyplot.show()"
   ]
  },
  {
   "cell_type": "markdown",
   "metadata": {},
   "source": [
    "There are a few outliers: one that has very high poi_ratio and low bonus_salary_ratio, and three that has low poi_ratio and high bonus_salary_ratio. I predict that either one of them is a poi."
   ]
  },
  {
   "cell_type": "markdown",
   "metadata": {},
   "source": [
    "# Feature Selection"
   ]
  },
  {
   "cell_type": "code",
   "execution_count": 20,
   "metadata": {
    "collapsed": false
   },
   "outputs": [],
   "source": [
    "my_dataset = data_dict\n",
    "features_list = ['poi','bonus to salary ratio', 'salary', 'bonus',\n",
    "                'from_poi_to_this_person_ratio', 'from_this_person_to_poi_ratio',\n",
    "                 'from_poi_to_this_person','from_this_person_to_poi',\n",
    "                 'deferral_payments', 'total_payments', 'loan_advances', \n",
    "                 'restricted_stock_deferred', 'deferred_income', \n",
    "                 'total_stock_value', 'expenses', 'exercised_stock_options', \n",
    "                 'long_term_incentive', 'restricted_stock', 'director_fees',\n",
    "                  'shared_receipt_with_poi'] \n",
    "data = featureFormat(my_dataset, features_list, sort_keys = True)\n",
    "labels, features = targetFeatureSplit(data)\n",
    "\n",
    "#Splitting the data using Stratified Shuffle Split\n",
    "from sklearn.cross_validation import StratifiedShuffleSplit\n",
    "sss = StratifiedShuffleSplit(labels, 1000, test_size = 0.3, random_state = 42)\n",
    "# sss.get_n_splits(features, labels)\n",
    "for train_index, test_index in sss:\n",
    "    #print(\"TRAIN:\", train_index, \"TEST:\", test_index)\n",
    "    features_train, features_test = [features[i] for i in train_index], [features[i] for i in test_index]\n",
    "    labels_train, labels_test = [labels[i] for i in train_index],[labels[i] for i in test_index]"
   ]
  },
  {
   "cell_type": "code",
   "execution_count": 21,
   "metadata": {
    "collapsed": false
   },
   "outputs": [
    {
     "name": "stdout",
     "output_type": "stream",
     "text": [
      "DecisionTreeClassifier(class_weight=None, criterion='gini', max_depth=None,\n",
      "            max_features=None, max_leaf_nodes=None, min_samples_leaf=1,\n",
      "            min_samples_split=2, min_weight_fraction_leaf=0.0,\n",
      "            presort=False, random_state=42, splitter='best')\n",
      "\tAccuracy: 0.81180\tPrecision: 0.28623\tRecall: 0.27550\tF1: 0.28076\tF2: 0.27758\n",
      "\tTotal predictions: 15000\tTrue positives:  551\tFalse positives: 1374\tFalse negatives: 1449\tTrue negatives: 11626\n",
      "\n",
      "None\n"
     ]
    }
   ],
   "source": [
    "#Using the features_list above\n",
    "clf = DecisionTreeClassifier(random_state=42)\n",
    "clf = clf.fit(features_train,labels_train)\n",
    "pred= clf.predict(features_test)\n",
    "acc=accuracy_score(labels_test, pred)\n",
    "print test_classifier(clf, my_dataset, features_list)"
   ]
  },
  {
   "cell_type": "markdown",
   "metadata": {},
   "source": [
    "Precision score is 0.286 and Recall is 0.275. They're not enough for the threshold. Let me use SelectKBest and feature importance from Decision trees to select better features."
   ]
  },
  {
   "cell_type": "markdown",
   "metadata": {},
   "source": [
    "### SelectKBest and Decision Trees"
   ]
  },
  {
   "cell_type": "code",
   "execution_count": 22,
   "metadata": {
    "collapsed": false
   },
   "outputs": [
    {
     "name": "stdout",
     "output_type": "stream",
     "text": [
      " \n",
      "Selected Features, Scores, P-Values\n",
      "[('salary', '16.47', '0.000'), ('from_this_person_to_poi_ratio', '12.07', '0.001'), ('total_stock_value', '9.50', '0.003'), ('exercised_stock_options', '8.87', '0.004'), ('bonus', '8.82', '0.004')]\n"
     ]
    }
   ],
   "source": [
    "X_new = SelectKBest(f_classif, k = 5)\n",
    "X_new.fit_transform(features_train, labels_train)\n",
    "# Get SelectKBest scores, rounded to 2 decimal places, name them \"feature_scores\"\n",
    "feature_scores = ['%.2f' % elem for elem in X_new.scores_ ]\n",
    "# Get SelectKBest pvalues, rounded to 3 decimal places, name them \"feature_scores_pvalues\"\n",
    "feature_scores_pvalues = ['%.3f' % elem for elem in  X_new.pvalues_ ]\n",
    "# Get SelectKBest feature names, whose indices are stored in 'X_new.get_support',\n",
    "# create a tuple of feature names, scores and pvalues, name it \"features_selected_tuple\"\n",
    "features_selected_tuple=[(features_list[i+1], feature_scores[i], feature_scores_pvalues[i]) for i in X_new.get_support(indices=True)]\n",
    "\n",
    "# Sort the tuple by score, in reverse order\n",
    "features_selected_tuple = sorted(features_selected_tuple, key=lambda feature: float(feature[1]) , reverse=True)\n",
    "\n",
    "# Print\n",
    "print ' '\n",
    "print 'Selected Features, Scores, P-Values'\n",
    "print features_selected_tuple"
   ]
  },
  {
   "cell_type": "markdown",
   "metadata": {},
   "source": [
    "I will use the features selected by SelectKBest."
   ]
  },
  {
   "cell_type": "code",
   "execution_count": 23,
   "metadata": {
    "collapsed": false
   },
   "outputs": [],
   "source": [
    "my_dataset = data_dict\n",
    "features_list = ['poi','salary', 'from_this_person_to_poi_ratio', \n",
    "                 'total_stock_value', 'exercised_stock_options', 'bonus']\n",
    "data = featureFormat(my_dataset, features_list, sort_keys = True)\n",
    "labels, features = targetFeatureSplit(data)\n",
    "\n",
    "#Splitting the data using Stratified Shuffle Split\n",
    "from sklearn.cross_validation import StratifiedShuffleSplit\n",
    "sss = StratifiedShuffleSplit(labels, 1000, test_size = 0.3, random_state = 1)\n",
    "\n",
    "for train_index, test_index in sss:\n",
    "    #print(\"TRAIN:\", train_index, \"TEST:\", test_index)\n",
    "    features_train, features_test = [features[i] for i in train_index], [features[i] for i in test_index]\n",
    "    labels_train, labels_test = [labels[i] for i in train_index],[labels[i] for i in test_index]"
   ]
  },
  {
   "cell_type": "markdown",
   "metadata": {},
   "source": [
    "### Decision Trees"
   ]
  },
  {
   "cell_type": "code",
   "execution_count": 24,
   "metadata": {
    "collapsed": false
   },
   "outputs": [
    {
     "name": "stdout",
     "output_type": "stream",
     "text": [
      "DecisionTreeClassifier(class_weight=None, criterion='gini', max_depth=None,\n",
      "            max_features=None, max_leaf_nodes=None, min_samples_leaf=1,\n",
      "            min_samples_split=2, min_weight_fraction_leaf=0.0,\n",
      "            presort=False, random_state=42, splitter='best')\n",
      "\tAccuracy: 0.78757\tPrecision: 0.28863\tRecall: 0.33250\tF1: 0.30901\tF2: 0.32269\n",
      "\tTotal predictions: 14000\tTrue positives:  665\tFalse positives: 1639\tFalse negatives: 1335\tTrue negatives: 10361\n",
      "\n",
      "None\n"
     ]
    }
   ],
   "source": [
    "clf = DecisionTreeClassifier(random_state=42)\n",
    "clf = clf.fit(features_train,labels_train)\n",
    "pred= clf.predict(features_test)\n",
    "acc=accuracy_score(labels_test, pred)\n",
    "print test_classifier(clf, my_dataset, features_list)"
   ]
  },
  {
   "cell_type": "code",
   "execution_count": 25,
   "metadata": {
    "collapsed": false
   },
   "outputs": [
    {
     "name": "stdout",
     "output_type": "stream",
     "text": [
      "{'splitter': 'random', 'min_samples_leaf': 1, 'criterion': 'gini', 'min_samples_split': 2, 'max_depth': 2, 'class_weight': None}\n"
     ]
    }
   ],
   "source": [
    "#Decision Trees\n",
    "parameters = {'min_samples_split':[2,3,4,5,6,7,8,9,10], 'criterion':(\"gini\", 'entropy'), \n",
    "              'max_depth':[None,1,2,3,4,5,6,7,8,9], 'splitter':['best', 'random'],\n",
    "              'class_weight':[None, 'balanced'], 'min_samples_leaf':[1,2,3,4,5,6] }\n",
    "dtree = DecisionTreeClassifier(random_state=42)\n",
    "clf = GridSearchCV(dtree, parameters)\n",
    "clf.fit(features_train,labels_train)\n",
    "print clf.best_params_"
   ]
  },
  {
   "cell_type": "code",
   "execution_count": 30,
   "metadata": {
    "collapsed": false
   },
   "outputs": [
    {
     "name": "stdout",
     "output_type": "stream",
     "text": [
      "Decision Tree Results\n",
      "DecisionTreeClassifier(class_weight=None, criterion='gini', max_depth=2,\n",
      "            max_features=None, max_leaf_nodes=None, min_samples_leaf=1,\n",
      "            min_samples_split=2, min_weight_fraction_leaf=0.0,\n",
      "            presort=False, random_state=42, splitter='random')\n",
      "\tAccuracy: 0.85821\tPrecision: 0.53086\tRecall: 0.06450\tF1: 0.11502\tF2: 0.07825\n",
      "\tTotal predictions: 14000\tTrue positives:  129\tFalse positives:  114\tFalse negatives: 1871\tTrue negatives: 11886\n",
      "\n",
      "None\n"
     ]
    }
   ],
   "source": [
    "clf = DecisionTreeClassifier(min_samples_split=2, min_samples_leaf = 1, criterion= 'gini', \n",
    "                             max_depth=2, splitter ='random',random_state=42)\n",
    "clf.fit(features_train,labels_train)\n",
    "score = clf.score(features_test,labels_test)\n",
    "pred= clf.predict(features_test)\n",
    "acc=accuracy_score(labels_test, pred)\n",
    "print \"Decision Tree Results\"\n",
    "print test_classifier(clf, my_dataset, features_list)"
   ]
  },
  {
   "cell_type": "markdown",
   "metadata": {},
   "source": [
    "I used SelectKBest to select the features and used GridSearch tp select parameters of Decision Tree classifier. For the parameters GridSearch picked: ['splitter': 'random', 'min_samples_leaf': 2, 'criterion': 'gini', 'min_samples_split': 2, 'max_depth': 5, 'class_weight': None]. I used those parameters in Decision Tree and while precision score is above 0.3 threshold, the recall score is not(0.1)."
   ]
  },
  {
   "cell_type": "markdown",
   "metadata": {},
   "source": [
    "### KNN "
   ]
  },
  {
   "cell_type": "code",
   "execution_count": 27,
   "metadata": {
    "collapsed": false
   },
   "outputs": [
    {
     "name": "stdout",
     "output_type": "stream",
     "text": [
      "done in 0.068s\n",
      "Validating algorithm:\n",
      "accuracy after tuning =  0.825\n",
      "KNeighborsClassifier(algorithm='auto', leaf_size=30, metric='minkowski',\n",
      "           metric_params=None, n_jobs=1, n_neighbors=3, p=2,\n",
      "           weights='uniform')\n",
      "\tAccuracy: 0.87429\tPrecision: 0.61928\tRecall: 0.31150\tF1: 0.41450\tF2: 0.34588\n",
      "\tTotal predictions: 14000\tTrue positives:  623\tFalse positives:  383\tFalse negatives: 1377\tTrue negatives: 11617\n",
      "\n",
      "None\n"
     ]
    }
   ],
   "source": [
    "t0 = time()\n",
    "clf2 = KNeighborsClassifier(n_neighbors=3)\n",
    "scaler = StandardScaler()\n",
    "features_train_scaled = scaler.fit_transform(features_train)\n",
    "features_test_scaled = scaler.transform(features_test)\n",
    "#pca = PCA(n_components=4)\n",
    "#pca_transform_train = pca.fit_transform(features_train_scaled)\n",
    "#pca_transform_test = pca.fit_transform(features_test_scaled)\n",
    "clf2.fit(features_train_scaled,labels_train)\n",
    "score = clf2.score(features_test_scaled,labels_test)\n",
    "pred = clf2.predict(features_test_scaled)\n",
    "print(\"done in %0.3fs\" % (time() - t0))\n",
    "\n",
    "from sklearn.metrics import accuracy_score\n",
    "acc=accuracy_score(pred, labels_test)\n",
    "\n",
    "print \"Validating algorithm:\"\n",
    "print \"accuracy after tuning = \", acc\n",
    "print test_classifier(clf2, my_dataset, features_list)"
   ]
  },
  {
   "cell_type": "markdown",
   "metadata": {},
   "source": [
    "### Naive Bayes (final algorithm)"
   ]
  },
  {
   "cell_type": "code",
   "execution_count": 28,
   "metadata": {
    "collapsed": false
   },
   "outputs": [
    {
     "name": "stdout",
     "output_type": "stream",
     "text": [
      "GaussianNB()\n",
      "\tAccuracy: 0.85629\tPrecision: 0.49545\tRecall: 0.32650\tF1: 0.39361\tF2: 0.35040\n",
      "\tTotal predictions: 14000\tTrue positives:  653\tFalse positives:  665\tFalse negatives: 1347\tTrue negatives: 11335\n",
      "\n",
      "None\n",
      "0.875\n"
     ]
    }
   ],
   "source": [
    "clf3 = GaussianNB()\n",
    "clf3.fit(features_train, labels_train)\n",
    "pred = clf3.predict(features_test)\n",
    "accuracy = accuracy_score(pred,labels_test)\n",
    "print test_classifier(clf3, my_dataset, features_list)\n",
    "print accuracy\n",
    "\n",
    "#print \"NB algorithm time:\", round(time()-t0, 3), \"s\""
   ]
  },
  {
   "cell_type": "code",
   "execution_count": null,
   "metadata": {
    "collapsed": true
   },
   "outputs": [],
   "source": []
  }
 ],
 "metadata": {
  "anaconda-cloud": {},
  "kernelspec": {
   "display_name": "Python [conda env:DAND]",
   "language": "python",
   "name": "conda-env-DAND-py"
  },
  "language_info": {
   "codemirror_mode": {
    "name": "ipython",
    "version": 2
   },
   "file_extension": ".py",
   "mimetype": "text/x-python",
   "name": "python",
   "nbconvert_exporter": "python",
   "pygments_lexer": "ipython2",
   "version": "2.7.12"
  }
 },
 "nbformat": 4,
 "nbformat_minor": 1
}
